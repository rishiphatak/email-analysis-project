{
 "cells": [
  {
   "cell_type": "code",
   "execution_count": 1,
   "metadata": {
    "colab": {},
    "colab_type": "code",
    "id": "mp5cdI1cSUGc"
   },
   "outputs": [],
   "source": [
    "import pandas as pd\n",
    "import numpy as np"
   ]
  },
  {
   "cell_type": "code",
   "execution_count": 4,
   "metadata": {
    "colab": {
     "base_uri": "https://localhost:8080/",
     "height": 402
    },
    "colab_type": "code",
    "id": "x6pL91-pSZNp",
    "outputId": "f96c2085-20d4-4422-c6bc-04deacb2d8bb"
   },
   "outputs": [
    {
     "data": {
      "text/html": [
       "<div>\n",
       "<style scoped>\n",
       "    .dataframe tbody tr th:only-of-type {\n",
       "        vertical-align: middle;\n",
       "    }\n",
       "\n",
       "    .dataframe tbody tr th {\n",
       "        vertical-align: top;\n",
       "    }\n",
       "\n",
       "    .dataframe thead th {\n",
       "        text-align: right;\n",
       "    }\n",
       "</style>\n",
       "<table border=\"1\" class=\"dataframe\">\n",
       "  <thead>\n",
       "    <tr style=\"text-align: right;\">\n",
       "      <th></th>\n",
       "      <th>0</th>\n",
       "      <th>1</th>\n",
       "    </tr>\n",
       "  </thead>\n",
       "  <tbody>\n",
       "    <tr>\n",
       "      <th>0</th>\n",
       "      <td>i didnt feel humiliated</td>\n",
       "      <td>sadness</td>\n",
       "    </tr>\n",
       "    <tr>\n",
       "      <th>1</th>\n",
       "      <td>i can go from feeling so hopeless to so damned...</td>\n",
       "      <td>sadness</td>\n",
       "    </tr>\n",
       "    <tr>\n",
       "      <th>2</th>\n",
       "      <td>im grabbing a minute to post i feel greedy wrong</td>\n",
       "      <td>anger</td>\n",
       "    </tr>\n",
       "    <tr>\n",
       "      <th>3</th>\n",
       "      <td>i am ever feeling nostalgic about the fireplac...</td>\n",
       "      <td>love</td>\n",
       "    </tr>\n",
       "    <tr>\n",
       "      <th>4</th>\n",
       "      <td>i am feeling grouchy</td>\n",
       "      <td>anger</td>\n",
       "    </tr>\n",
       "    <tr>\n",
       "      <th>...</th>\n",
       "      <td>...</td>\n",
       "      <td>...</td>\n",
       "    </tr>\n",
       "    <tr>\n",
       "      <th>15995</th>\n",
       "      <td>i just had a very brief time in the beanbag an...</td>\n",
       "      <td>sadness</td>\n",
       "    </tr>\n",
       "    <tr>\n",
       "      <th>15996</th>\n",
       "      <td>i am now turning and i feel pathetic that i am...</td>\n",
       "      <td>sadness</td>\n",
       "    </tr>\n",
       "    <tr>\n",
       "      <th>15997</th>\n",
       "      <td>i feel strong and good overall</td>\n",
       "      <td>joy</td>\n",
       "    </tr>\n",
       "    <tr>\n",
       "      <th>15998</th>\n",
       "      <td>i feel like this was such a rude comment and i...</td>\n",
       "      <td>anger</td>\n",
       "    </tr>\n",
       "    <tr>\n",
       "      <th>15999</th>\n",
       "      <td>i know a lot but i feel so stupid because i ca...</td>\n",
       "      <td>sadness</td>\n",
       "    </tr>\n",
       "  </tbody>\n",
       "</table>\n",
       "<p>16000 rows × 2 columns</p>\n",
       "</div>"
      ],
      "text/plain": [
       "                                                       0        1\n",
       "0                                i didnt feel humiliated  sadness\n",
       "1      i can go from feeling so hopeless to so damned...  sadness\n",
       "2       im grabbing a minute to post i feel greedy wrong    anger\n",
       "3      i am ever feeling nostalgic about the fireplac...     love\n",
       "4                                   i am feeling grouchy    anger\n",
       "...                                                  ...      ...\n",
       "15995  i just had a very brief time in the beanbag an...  sadness\n",
       "15996  i am now turning and i feel pathetic that i am...  sadness\n",
       "15997                     i feel strong and good overall      joy\n",
       "15998  i feel like this was such a rude comment and i...    anger\n",
       "15999  i know a lot but i feel so stupid because i ca...  sadness\n",
       "\n",
       "[16000 rows x 2 columns]"
      ]
     },
     "execution_count": 4,
     "metadata": {},
     "output_type": "execute_result"
    }
   ],
   "source": [
    "train_df = pd.read_csv('data/train.txt', sep=';', header=None)\n",
    "train_df"
   ]
  },
  {
   "cell_type": "code",
   "execution_count": 5,
   "metadata": {
    "colab": {
     "base_uri": "https://localhost:8080/",
     "height": 282
    },
    "colab_type": "code",
    "id": "LiqyUJF7eFQr",
    "outputId": "abf2a5da-546d-47b8-9af8-69ce77e8f200"
   },
   "outputs": [
    {
     "data": {
      "text/plain": [
       "<matplotlib.axes._subplots.AxesSubplot at 0x200cc0cbda0>"
      ]
     },
     "execution_count": 5,
     "metadata": {},
     "output_type": "execute_result"
    },
    {
     "data": {
      "image/png": "[encoded data removed]",
      "text/plain": [
       "<Figure size 432x288 with 1 Axes>"
      ]
     },
     "metadata": {
      "needs_background": "light"
     },
     "output_type": "display_data"
    }
   ],
   "source": [
    "train_df[1].hist()"
   ]
  },
  {
   "cell_type": "code",
   "execution_count": 6,
   "metadata": {
    "colab": {
     "base_uri": "https://localhost:8080/",
     "height": 402
    },
    "colab_type": "code",
    "id": "JHEuRjTFUwfN",
    "outputId": "08268310-7e4e-4a15-c61f-6e6d313379ce"
   },
   "outputs": [],
   "source": [
    "test_df = pd.read_csv('data/test.txt', sep=';', header=None)"
   ]
  },
  {
   "cell_type": "code",
   "execution_count": 7,
   "metadata": {
    "colab": {
     "base_uri": "https://localhost:8080/",
     "height": 50
    },
    "colab_type": "code",
    "id": "7HB86MUiUQOS",
    "outputId": "3de6d679-a616-4596-a7c5-bf56a73b96de"
   },
   "outputs": [
    {
     "data": {
      "text/plain": [
       "array(['sadness', 'anger', 'love', 'surprise', 'fear', 'joy'],\n",
       "      dtype=object)"
      ]
     },
     "execution_count": 7,
     "metadata": {},
     "output_type": "execute_result"
    }
   ],
   "source": [
    "train_df[1].unique()"
   ]
  },
  {
   "cell_type": "code",
   "execution_count": 8,
   "metadata": {
    "colab": {},
    "colab_type": "code",
    "id": "NesgxmRASkJJ"
   },
   "outputs": [],
   "source": [
    "import tensorflow as tf\n",
    "from tensorflow.keras.preprocessing.text import Tokenizer\n",
    "from tensorflow.keras.preprocessing.sequence import pad_sequences\n",
    "from sklearn.preprocessing import LabelEncoder"
   ]
  },
  {
   "cell_type": "code",
   "execution_count": 9,
   "metadata": {
    "colab": {
     "base_uri": "https://localhost:8080/",
     "height": 185
    },
    "colab_type": "code",
    "id": "VFF5i16mT72F",
    "outputId": "b2128d93-1f40-421d-c070-c52b9550755f"
   },
   "outputs": [
    {
     "data": {
      "text/plain": [
       "array(['i didnt feel humiliated',\n",
       "       'i can go from feeling so hopeless to so damned hopeful just from being around someone who cares and is awake',\n",
       "       'im grabbing a minute to post i feel greedy wrong',\n",
       "       'i am ever feeling nostalgic about the fireplace i will know that it is still on the property',\n",
       "       'i am feeling grouchy',\n",
       "       'ive been feeling a little burdened lately wasnt sure why that was',\n",
       "       'ive been taking or milligrams or times recommended amount and ive fallen asleep a lot faster but i also feel like so funny',\n",
       "       'i feel as confused about life as a teenager or as jaded as a year old man',\n",
       "       'i have been with petronas for years i feel that petronas has performed well and made a huge profit',\n",
       "       'i feel romantic too'], dtype=object)"
      ]
     },
     "execution_count": 9,
     "metadata": {},
     "output_type": "execute_result"
    }
   ],
   "source": [
    "train_sentences = train_df[0].values.T\n",
    "train_sentences[:10]"
   ]
  },
  {
   "cell_type": "code",
   "execution_count": 10,
   "metadata": {
    "colab": {
     "base_uri": "https://localhost:8080/",
     "height": 50
    },
    "colab_type": "code",
    "id": "EhBBoC5zUChF",
    "outputId": "461130f4-4436-4e2f-fb01-a082bd2e2fad"
   },
   "outputs": [
    {
     "data": {
      "text/plain": [
       "array(['sadness', 'sadness', 'anger', 'love', 'anger', 'sadness',\n",
       "       'surprise', 'fear', 'joy', 'love'], dtype=object)"
      ]
     },
     "execution_count": 10,
     "metadata": {},
     "output_type": "execute_result"
    }
   ],
   "source": [
    "train_labels = train_df[1].values.T\n",
    "train_labels[:10]"
   ]
  },
  {
   "cell_type": "code",
   "execution_count": 11,
   "metadata": {
    "colab": {
     "base_uri": "https://localhost:8080/",
     "height": 34
    },
    "colab_type": "code",
    "id": "XZVoDDrSWXtY",
    "outputId": "bfc45f83-f4e2-43b6-bb54-2dbc70142589"
   },
   "outputs": [
    {
     "data": {
      "text/plain": [
       "array([4, 4, 0, 3, 0, 4, 5, 1, 2, 3])"
      ]
     },
     "execution_count": 11,
     "metadata": {},
     "output_type": "execute_result"
    }
   ],
   "source": [
    "encoder = LabelEncoder()\n",
    "training_labels_final = encoder.fit_transform(train_labels)\n",
    "training_labels_final[:10]"
   ]
  },
  {
   "cell_type": "code",
   "execution_count": 12,
   "metadata": {
    "colab": {
     "base_uri": "https://localhost:8080/",
     "height": 222
    },
    "colab_type": "code",
    "id": "QuOFLRQ0U946",
    "outputId": "25360410-e505-4388-c0cc-ebdd3de24a07"
   },
   "outputs": [
    {
     "data": {
      "text/plain": [
       "array(['im feeling rather rotten so im not very ambitious right now',\n",
       "       'im updating my blog because i feel shitty',\n",
       "       'i never make her separate from me because i don t ever want her to feel like i m ashamed with her',\n",
       "       'i left with my bouquet of red and yellow tulips under my arm feeling slightly more optimistic than when i arrived',\n",
       "       'i was feeling a little vain when i did this one',\n",
       "       'i cant walk into a shop anywhere where i do not feel uncomfortable',\n",
       "       'i felt anger when at the end of a telephone call',\n",
       "       'i explain why i clung to a relationship with a boy who was in many ways immature and uncommitted despite the excitement i should have been feeling for getting accepted into the masters program at the university of virginia',\n",
       "       'i like to have the same breathless feeling as a reader eager to see what will happen next',\n",
       "       'i jest i feel grumpy tired and pre menstrual which i probably am but then again its only been a week and im about as fit as a walrus on vacation for the summer'],\n",
       "      dtype=object)"
      ]
     },
     "execution_count": 12,
     "metadata": {},
     "output_type": "execute_result"
    }
   ],
   "source": [
    "test_sentences = test_df[0].values.T\n",
    "test_sentences[:10]"
   ]
  },
  {
   "cell_type": "code",
   "execution_count": 13,
   "metadata": {
    "colab": {
     "base_uri": "https://localhost:8080/",
     "height": 50
    },
    "colab_type": "code",
    "id": "LLQqrhxOVFD-",
    "outputId": "1dd90910-7d50-4f8e-f55d-979958689c7c"
   },
   "outputs": [
    {
     "data": {
      "text/plain": [
       "array(['sadness', 'sadness', 'sadness', 'joy', 'sadness', 'fear', 'anger',\n",
       "       'joy', 'joy', 'anger'], dtype=object)"
      ]
     },
     "execution_count": 13,
     "metadata": {},
     "output_type": "execute_result"
    }
   ],
   "source": [
    "test_labels = test_df[1].values.T\n",
    "test_labels[:10]"
   ]
  },
  {
   "cell_type": "code",
   "execution_count": 14,
   "metadata": {
    "colab": {
     "base_uri": "https://localhost:8080/",
     "height": 34
    },
    "colab_type": "code",
    "id": "1u3zLRI1Wo58",
    "outputId": "35392b3e-b9b7-45d5-a260-9bd11705c488"
   },
   "outputs": [
    {
     "data": {
      "text/plain": [
       "array([4, 4, 4, 2, 4, 1, 0, 2, 2, 0])"
      ]
     },
     "execution_count": 14,
     "metadata": {},
     "output_type": "execute_result"
    }
   ],
   "source": [
    "testing_labels_final = encoder.transform(test_labels)\n",
    "testing_labels_final[:10]"
   ]
  },
  {
   "cell_type": "code",
   "execution_count": 15,
   "metadata": {
    "colab": {},
    "colab_type": "code",
    "id": "ODy8eEWJUNa4"
   },
   "outputs": [],
   "source": [
    "vocab_size = 10000\n",
    "embedding_dim = 16\n",
    "max_length = 120\n",
    "trunc_type='post'\n",
    "oov_tok = \"<OOV>\"\n",
    "\n",
    "tokenizer = Tokenizer(num_words = vocab_size, oov_token=oov_tok)\n",
    "tokenizer.fit_on_texts(train_sentences)\n",
    "word_index = tokenizer.word_index\n",
    "sequences = tokenizer.texts_to_sequences(train_sentences)\n",
    "padded = pad_sequences(sequences,maxlen=max_length, truncating=trunc_type)\n",
    "\n",
    "testing_sequences = tokenizer.texts_to_sequences(test_sentences)\n",
    "testing_padded = pad_sequences(testing_sequences,maxlen=max_length)"
   ]
  },
  {
   "cell_type": "code",
   "execution_count": 16,
   "metadata": {
    "colab": {
     "base_uri": "https://localhost:8080/",
     "height": 286
    },
    "colab_type": "code",
    "id": "1w-jWNLZVoTR",
    "outputId": "ebf26f6e-ed53-4c13-a45a-334e3896ea84"
   },
   "outputs": [
    {
     "name": "stdout",
     "output_type": "stream",
     "text": [
      "Model: \"sequential\"\n",
      "_________________________________________________________________\n",
      "Layer (type)                 Output Shape              Param #   \n",
      "=================================================================\n",
      "embedding (Embedding)        (None, 120, 16)           160000    \n",
      "_________________________________________________________________\n",
      "bidirectional (Bidirectional (None, 64)                9600      \n",
      "_________________________________________________________________\n",
      "dense (Dense)                (None, 32)                2080      \n",
      "_________________________________________________________________\n",
      "dense_1 (Dense)              (None, 6)                 198       \n",
      "=================================================================\n",
      "Total params: 171,878\n",
      "Trainable params: 171,878\n",
      "Non-trainable params: 0\n",
      "_________________________________________________________________\n"
     ]
    }
   ],
   "source": [
    "tf.keras.backend.clear_session()\n",
    "\n",
    "model = tf.keras.Sequential([\n",
    "    tf.keras.layers.Embedding(vocab_size, embedding_dim, input_length=max_length),\n",
    "    tf.keras.layers.Bidirectional(tf.keras.layers.GRU(32)),\n",
    "    tf.keras.layers.Dense(32, activation='relu'),\n",
    "    tf.keras.layers.Dense(6, activation='softmax')\n",
    "])\n",
    "model.compile(loss='sparse_categorical_crossentropy', optimizer='adam', metrics=['accuracy'])\n",
    "model.summary()"
   ]
  },
  {
   "cell_type": "code",
   "execution_count": 17,
   "metadata": {
    "colab": {
     "base_uri": "https://localhost:8080/",
     "height": 1000
    },
    "colab_type": "code",
    "id": "1tN-FNADV6_k",
    "outputId": "8896577c-8944-4646-fe45-ec867ed840f6"
   },
   "outputs": [
    {
     "name": "stdout",
     "output_type": "stream",
     "text": [
      "Epoch 1/11\n",
      "500/500 [==============================] - 14s 27ms/step - loss: 1.3243 - accuracy: 0.4728 - val_loss: 0.6989 - val_accuracy: 0.7555\n",
      "Epoch 2/11\n",
      "500/500 [==============================] - 16s 32ms/step - loss: 0.4110 - accuracy: 0.8635 - val_loss: 0.3424 - val_accuracy: 0.8925\n",
      "Epoch 3/11\n",
      "500/500 [==============================] - 16s 33ms/step - loss: 0.2085 - accuracy: 0.9296 - val_loss: 0.2594 - val_accuracy: 0.9040\n",
      "Epoch 4/11\n",
      "500/500 [==============================] - 17s 33ms/step - loss: 0.1333 - accuracy: 0.9498 - val_loss: 0.2591 - val_accuracy: 0.9040\n",
      "Epoch 5/11\n",
      "500/500 [==============================] - 17s 34ms/step - loss: 0.1098 - accuracy: 0.9602 - val_loss: 0.2790 - val_accuracy: 0.9025\n",
      "Epoch 6/11\n",
      "500/500 [==============================] - 18s 35ms/step - loss: 0.0871 - accuracy: 0.9665 - val_loss: 0.2641 - val_accuracy: 0.9115\n",
      "Epoch 7/11\n",
      "500/500 [==============================] - 18s 37ms/step - loss: 0.0879 - accuracy: 0.9671 - val_loss: 0.2825 - val_accuracy: 0.8990\n",
      "Epoch 8/11\n",
      "500/500 [==============================] - 18s 37ms/step - loss: 0.0670 - accuracy: 0.9748 - val_loss: 0.2974 - val_accuracy: 0.9140\n",
      "Epoch 9/11\n",
      "500/500 [==============================] - 19s 37ms/step - loss: 0.0571 - accuracy: 0.9786 - val_loss: 0.3082 - val_accuracy: 0.9065\n",
      "Epoch 10/11\n",
      "500/500 [==============================] - 18s 36ms/step - loss: 0.0563 - accuracy: 0.9789 - val_loss: 0.2989 - val_accuracy: 0.9115\n",
      "Epoch 11/11\n",
      "500/500 [==============================] - 18s 36ms/step - loss: 0.0540 - accuracy: 0.9805 - val_loss: 0.3052 - val_accuracy: 0.9105\n"
     ]
    }
   ],
   "source": [
    "num_epochs = 11\n",
    "history = model.fit(padded, training_labels_final, epochs=num_epochs, validation_data=(testing_padded, testing_labels_final))"
   ]
  },
  {
   "cell_type": "code",
   "execution_count": 18,
   "metadata": {
    "colab": {
     "base_uri": "https://localhost:8080/",
     "height": 34
    },
    "colab_type": "code",
    "id": "NazQf_JyWCGX",
    "outputId": "7f5b20e5-9bab-4f36-d333-77b70f926278"
   },
   "outputs": [
    {
     "name": "stdout",
     "output_type": "stream",
     "text": [
      "WARNING:tensorflow:From C:\\Users\\Rishi2\\Anaconda3\\lib\\site-packages\\tensorflow\\python\\ops\\resource_variable_ops.py:1817: calling BaseResourceVariable.__init__ (from tensorflow.python.ops.resource_variable_ops) with constraint is deprecated and will be removed in a future version.\n",
      "Instructions for updating:\n",
      "If using Keras pass *_constraint arguments to layers.\n",
      "INFO:tensorflow:Assets written to: emotions-classification-new\\assets\n"
     ]
    }
   ],
   "source": [
    "model.save('emotions-classification-new')"
   ]
  },
  {
   "cell_type": "code",
   "execution_count": 41,
   "metadata": {
    "colab": {},
    "colab_type": "code",
    "id": "LZjDYl0JY1uj"
   },
   "outputs": [],
   "source": [
    "model = tf.keras.models.load_model('/content/drive/My Drive/HowdyHack2020/emotions-classification')"
   ]
  },
  {
   "cell_type": "code",
   "execution_count": 39,
   "metadata": {
    "colab": {
     "base_uri": "https://localhost:8080/",
     "height": 35
    },
    "colab_type": "code",
    "id": "nfl8OQbxc5i5",
    "outputId": "e124da1a-06e5-4d74-fd52-4086e67ca3a1"
   },
   "outputs": [
    {
     "data": {
      "application/vnd.google.colaboratory.intrinsic+json": {
       "type": "string"
      },
      "text/plain": [
       "'im feeling a little dazed at the amount of items that i no longer use for decorations'"
      ]
     },
     "execution_count": 39,
     "metadata": {
      "tags": []
     },
     "output_type": "execute_result"
    }
   ],
   "source": [
    "val_df = pd.read_csv('/content/val.txt', sep=';', header=None)\n",
    "val_df[val_df[1] == 'surprise'].iat[1, 0]"
   ]
  },
  {
   "cell_type": "code",
   "execution_count": 40,
   "metadata": {
    "colab": {
     "base_uri": "https://localhost:8080/",
     "height": 34
    },
    "colab_type": "code",
    "id": "16eBIV1KaB6t",
    "outputId": "a799b066-762a-476b-c4ed-f74e713acba9"
   },
   "outputs": [
    {
     "data": {
      "text/plain": [
       "array(['surprise'], dtype=object)"
      ]
     },
     "execution_count": 40,
     "metadata": {
      "tags": []
     },
     "output_type": "execute_result"
    }
   ],
   "source": [
    "my_input = ['im feeling a little dazed at the amount of items that i no longer use for decorations']#val_df[0].values.T[:5]\n",
    "\n",
    "input_seq = tokenizer.texts_to_sequences(my_input)\n",
    "input_padded = pad_sequences(input_seq, maxlen=max_length)\n",
    "\n",
    "encoder.inverse_transform(np.argmax(model.predict(input_padded), axis=1))"
   ]
  },
  {
   "cell_type": "code",
   "execution_count": null,
   "metadata": {
    "colab": {},
    "colab_type": "code",
    "id": "KeuYR2jieBKp"
   },
   "outputs": [],
   "source": []
  }
 ],
 "metadata": {
  "colab": {
   "name": "SentimentAnalysis.ipynb",
   "provenance": []
  },
  "kernelspec": {
   "display_name": "Python 3",
   "language": "python",
   "name": "python3"
  },
  "language_info": {
   "codemirror_mode": {
    "name": "ipython",
    "version": 3
   },
   "file_extension": ".py",
   "mimetype": "text/x-python",
   "name": "python",
   "nbconvert_exporter": "python",
   "pygments_lexer": "ipython3",
   "version": "3.7.3"
  }
 },
 "nbformat": 4,
 "nbformat_minor": 1
}
